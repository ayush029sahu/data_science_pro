{
 "cells": [
  {
   "cell_type": "code",
   "execution_count": 1,
   "metadata": {},
   "outputs": [],
   "source": [
    "import numpy as np"
   ]
  },
  {
   "cell_type": "markdown",
   "metadata": {},
   "source": [
    "random meaning something that cannot be pridicted logically\n",
    "now we will generate the random number"
   ]
  },
  {
   "cell_type": "markdown",
   "metadata": {},
   "source": [
    "we can import random sub library from numpy"
   ]
  },
  {
   "cell_type": "code",
   "execution_count": 2,
   "metadata": {},
   "outputs": [],
   "source": [
    "from numpy import random"
   ]
  },
  {
   "cell_type": "code",
   "execution_count": 3,
   "metadata": {},
   "outputs": [
    {
     "name": "stdout",
     "output_type": "stream",
     "text": [
      "4\n"
     ]
    }
   ],
   "source": [
    "x=random.randint(100)\n",
    "print(x)"
   ]
  },
  {
   "cell_type": "markdown",
   "metadata": {},
   "source": [
    "using default rand() it will select the value between 0 to 1"
   ]
  },
  {
   "cell_type": "code",
   "execution_count": 4,
   "metadata": {},
   "outputs": [
    {
     "name": "stdout",
     "output_type": "stream",
     "text": [
      "0.17793371666913782\n"
     ]
    }
   ],
   "source": [
    "x=random.rand()\n",
    "print(x)"
   ]
  },
  {
   "cell_type": "markdown",
   "metadata": {},
   "source": [
    "we can also generate random array\n",
    "we will generate a 1-d array containing 5 random number between 0 to 100"
   ]
  },
  {
   "cell_type": "code",
   "execution_count": 5,
   "metadata": {},
   "outputs": [
    {
     "name": "stdout",
     "output_type": "stream",
     "text": [
      "[23 80 87 65 31]\n"
     ]
    }
   ],
   "source": [
    "x=random.randint(100,size=(5))\n",
    "print(x)"
   ]
  },
  {
   "cell_type": "markdown",
   "metadata": {},
   "source": [
    "we will generate a 2-d array with 3 rows,each row containing 5 random int from 0 to 100"
   ]
  },
  {
   "cell_type": "code",
   "execution_count": 6,
   "metadata": {},
   "outputs": [
    {
     "name": "stdout",
     "output_type": "stream",
     "text": [
      "[[10 83 60 34 75]\n",
      " [29 78 56 88 31]\n",
      " [53 56 84 37 76]]\n"
     ]
    }
   ],
   "source": [
    "x=random.randint(100,size=(3,5))\n",
    "print(x)"
   ]
  },
  {
   "cell_type": "markdown",
   "metadata": {},
   "source": [
    "we can also generate random array\n",
    "we will generate a 1-d array containing 5 random number between 0 to 100 float"
   ]
  },
  {
   "cell_type": "code",
   "execution_count": 7,
   "metadata": {},
   "outputs": [
    {
     "name": "stdout",
     "output_type": "stream",
     "text": [
      "[0.66065934 0.20633128 0.27243991 0.13913038 0.98992311]\n"
     ]
    }
   ],
   "source": [
    "x=random.rand(5)\n",
    "print(x)"
   ]
  },
  {
   "cell_type": "markdown",
   "metadata": {},
   "source": [
    "we can generate random numbers from an array \n",
    "choice()"
   ]
  },
  {
   "cell_type": "code",
   "execution_count": 8,
   "metadata": {},
   "outputs": [
    {
     "name": "stdout",
     "output_type": "stream",
     "text": [
      "65\n"
     ]
    }
   ],
   "source": [
    "x=random.choice([4,5,3,2,8,45,65])\n",
    "print(x)\n",
    "#this will pick the values from inside the given choice"
   ]
  },
  {
   "cell_type": "markdown",
   "metadata": {},
   "source": [
    "we can generate random numbers from an 2-d array \n",
    "choice()"
   ]
  },
  {
   "cell_type": "code",
   "execution_count": 9,
   "metadata": {},
   "outputs": [
    {
     "name": "stdout",
     "output_type": "stream",
     "text": [
      "[[65  4  3  4 45]\n",
      " [ 4 45 45  8  8]\n",
      " [ 5 65  3  5  3]]\n"
     ]
    }
   ],
   "source": [
    "x=random.choice([4,5,3,2,8,45,65],size=(3,5))\n",
    "print(x)"
   ]
  },
  {
   "cell_type": "markdown",
   "metadata": {},
   "source": [
    "data distribution is a list of all possible value and how ofter each value occur\n",
    "such lists are important when working with statistics and data science"
   ]
  },
  {
   "cell_type": "markdown",
   "metadata": {},
   "source": [
    "Random distribution : probability function."
   ]
  },
  {
   "cell_type": "markdown",
   "metadata": {},
   "source": [
    "now we will generate 1-d array with 100 values where each value hass to be 3,5,7,9\n",
    "the probability for the value 3 is set to be 0.1\n",
    "the probability for the value 3 is set to be 0.3\n",
    "the probability for the value 3 is set to be 0.6\n",
    "the probability for the value 3 is set to be 0\n",
    "such that their overall probability comes to be 1\n",
    "p= is used for probability"
   ]
  },
  {
   "cell_type": "code",
   "execution_count": 10,
   "metadata": {},
   "outputs": [
    {
     "name": "stdout",
     "output_type": "stream",
     "text": [
      "[7 7 7 5 3 3 7 5 7 5 3 7 3 3 7 3 7 7 7 5 7 5 7 5 5 7 3 5 5 7 5 7 7 3 7 7 7\n",
      " 7 3 7 5 7 3 3 5 7 5 5 7 7 7 5 7 7 3 7 7 5 5 7 7 7 7 7 5 7 5 7 7 3 5 7 5 7\n",
      " 3 7 7 7 5 7 7 7 7 7 7 5 3 7 5 7 7 7 7 7 7 5 3 7 7 7]\n"
     ]
    }
   ],
   "source": [
    "x=random.choice([3,5,7,9],p=[0.1,0.3,0.6,0],size=(100))\n",
    "print(x)"
   ]
  },
  {
   "cell_type": "markdown",
   "metadata": {},
   "source": [
    "we will generate 2-d array with 3 rows and 5 coulumn"
   ]
  },
  {
   "cell_type": "code",
   "execution_count": 11,
   "metadata": {},
   "outputs": [
    {
     "name": "stdout",
     "output_type": "stream",
     "text": [
      "[[7 7 5 7 7]\n",
      " [7 5 7 5 5]\n",
      " [7 7 5 5 5]]\n"
     ]
    }
   ],
   "source": [
    "x=random.choice([3,5,7,9],p=[0.1,0.3,0.6,0],size=(3,5))\n",
    "print(x)"
   ]
  },
  {
   "cell_type": "markdown",
   "metadata": {},
   "source": [
    "permutation of random arrays.\n",
    "numpy provides 2 methods :-1 shuffle()\n",
    "2-permutation()\n",
    "now we will randomlu shuffle elements for the below array\n",
    "shuffle()-function makes changes to the original array\n",
    "permutation()-"
   ]
  },
  {
   "cell_type": "code",
   "execution_count": 4,
   "metadata": {},
   "outputs": [
    {
     "name": "stdout",
     "output_type": "stream",
     "text": [
      "[3 2 4 5 1]\n"
     ]
    }
   ],
   "source": [
    "x=np.array([1,2,3,4,5])\n",
    "random.shuffle(x)\n",
    "print(x)"
   ]
  },
  {
   "cell_type": "markdown",
   "metadata": {},
   "source": [
    "permutation()-does not change the actual array it only changes the copy of the arrray"
   ]
  },
  {
   "cell_type": "code",
   "execution_count": 6,
   "metadata": {},
   "outputs": [
    {
     "name": "stdout",
     "output_type": "stream",
     "text": [
      "[2 1 5 4 3]\n",
      "[1 2 3 4 5]\n"
     ]
    }
   ],
   "source": [
    "x=np.array([1,2,3,4,5])\n",
    "y=random.permutation(x)\n",
    "print(y)\n",
    "print(x)"
   ]
  },
  {
   "cell_type": "code",
   "execution_count": null,
   "metadata": {},
   "outputs": [],
   "source": []
  }
 ],
 "metadata": {
  "kernelspec": {
   "display_name": "myenv",
   "language": "python",
   "name": "python3"
  },
  "language_info": {
   "codemirror_mode": {
    "name": "ipython",
    "version": 3
   },
   "file_extension": ".py",
   "mimetype": "text/x-python",
   "name": "python",
   "nbconvert_exporter": "python",
   "pygments_lexer": "ipython3",
   "version": "3.11.4"
  }
 },
 "nbformat": 4,
 "nbformat_minor": 2
}
